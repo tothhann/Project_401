{
 "cells": [
  {
   "cell_type": "markdown",
   "metadata": {},
   "source": [
    "# Appealing to the Consumer\n",
    "\n",
    "By Hannah Toth"
   ]
  },
  {
   "cell_type": "markdown",
   "metadata": {},
   "source": [
    "<img src=\"https://i.pcmag.com/imagery/articles/03W5rddPYdbOO9ZACUPLQb7-10.1569490779.fit_lim.size_1600x900.jpg\" alt=\"An image of multiple controllers for different consoles\" width=\"60%\">\n",
    "\n",
    "Image from: https://i.pcmag.com/imagery/articles/03W5rddPYdbOO9ZACUPLQb7-10.1569490779.fit_lim.size_1600x900.jpg"
   ]
  },
  {
   "cell_type": "markdown",
   "metadata": {},
   "source": [
    "# Abstract\n",
    "\n",
    "In this project, my main goal was to create a model that would help determine which shows would be the best placement for a specific product. The product that I mainly focused on this project was video games. These types of models are very effective for advertising companies that are trying to determine where to place their ads so that it reaches the largest audience. The reason I decided to focus on this topic is becuase my mom actually works at an advertising company. My mom is a National Broadcast Negotiator, which means that she negotiates national broadcast rates with cable networks so she can purchase airtime for her employer. Last summer, since she was working from home due to the pandemic, I got to watch her work first-hand. It appeared that she was always working with large, messy datasets that she sould have to obtain specific information from them by hand. Therefore, I wanted to possibly help her by making a model that could determine optimum placement for a certain product among different networks in a more timely matter."
   ]
  },
  {
   "cell_type": "markdown",
   "metadata": {},
   "source": [
    "# Methodology\n",
    "\n",
    "In order to create my model, I originally planned on using tensorflow, which I still ended up using, but only the math functions that are included within it. I realized that for the type of question I was asking, and the data that I was given, the best model to use would be a KNN model. From my experience, I know tensorflow is used more for neural network models, and not something as simple as KNN. Therefore, I essentially made my own model that only used a few tensorflow functions here and there. The most time consuming part of the model creation was trying to clean up the data to something usable. There was a lot of data given, so the first thing I needed to do was remove all of the unnecessary columns. I had to discuss the data a lot with my mom becuase I didn't really know what any of it meant, but after a very lengthy phone call we figured out that the only columns I needed were the ones with \"MC_US_AA_%\". These columns were providing the viewer percentage within the US of everyone, and also of viewers that have video game consoles. Using these columns, I then had to average those columns for the different shows within the dataset, since there were multiple rows of the same show. Once that was all cleaned, since the data was from last year, I decided to check the viewer percentages for each show, and if they were above a certain threshold, to imply that an ad was bought for that show. I did this to sort of create a past dataset that the model could use to then take data from the current year to try and estimate whether a show with a current rating value should have an ad placed in it as well. Once I had the data cleaned and more usable, I then created my KNN model. It appears that tensorflow doesn't have a built-in KNN model, so I made my own by comparing the distances of the values and picking the determined neighbor value of smallest distances to determine the classification of the tested value."
   ]
  },
  {
   "cell_type": "markdown",
   "metadata": {},
   "source": [
    "# Timing Results\n",
    "\n",
    "My main goal of this project was to create a model that could help my mom determine ad placements without her having to find it out by hand. After part 1 I realized that I wanted to see how my model would perform for a dataset with multiple networks. So I had my mom pull more data from multiple networks, and I added it to the data I was already using. So, I then could perform a time test on both sizes to see how those would compare. However, when trying to optomize my code, I realized that running it, tensorflow was giving a warning to find best performance by using \"inter_op_parallelism_threads\".\n",
    "\n",
    "To start, I benchmarked the code by just running the code ten times each with the small and large dataset and taking the average of the results. Also, I talked with my mom to determine how long it would take her to average/sort/rank the data by hand, which she determined was about two hours."
   ]
  },
  {
   "cell_type": "code",
   "execution_count": 2,
   "metadata": {},
   "outputs": [
    {
     "data": {
      "text/plain": [
       "Text(0.5, 1.0, 'Benchmark')"
      ]
     },
     "execution_count": 2,
     "metadata": {},
     "output_type": "execute_result"
    },
    {
     "data": {
      "image/png": "[encoded data removed]",
      "text/plain": [
       "<Figure size 432x288 with 1 Axes>"
      ]
     },
     "metadata": {
      "needs_background": "light"
     },
     "output_type": "display_data"
    }
   ],
   "source": [
    "import matplotlib.pyplot as plt\n",
    "\n",
    "labels = [\"Small Data\", \"Large Data\"]\n",
    "vals = [6.019, 7.023]\n",
    "\n",
    "plt.bar(labels, vals)\n",
    "plt.ylabel(\"Time (sec)\")\n",
    "plt.title(\"Benchmark\")"
   ]
  },
  {
   "cell_type": "markdown",
   "metadata": {},
   "source": [
    "Once I had the benchmark for just the basic code, I added in the \"inter_op_parallelism_threads\" command to the large dataset to determine how that would change the runtime of the code."
   ]
  },
  {
   "cell_type": "code",
   "execution_count": 3,
   "metadata": {},
   "outputs": [
    {
     "data": {
      "text/plain": [
       "Text(0.5, 1.0, 'Optimization')"
      ]
     },
     "execution_count": 3,
     "metadata": {},
     "output_type": "execute_result"
    },
    {
     "data": {
      "image/png": "[encoded data removed]",
      "text/plain": [
       "<Figure size 432x288 with 1 Axes>"
      ]
     },
     "metadata": {
      "needs_background": "light"
     },
     "output_type": "display_data"
    }
   ],
   "source": [
    "labels = [1, 2, 3, 4, 5]\n",
    "vals = [5.649, 5.559, 5.338, 5.727, 5.541]\n",
    "\n",
    "plt.bar(labels, vals)\n",
    "plt.xlabel(\"Number of Threads\")\n",
    "plt.ylabel(\"Time (sec)\")\n",
    "plt.title(\"Optimization\")"
   ]
  },
  {
   "cell_type": "markdown",
   "metadata": {},
   "source": [
    "# Concluding Discussion and Future Work"
   ]
  },
  {
   "cell_type": "markdown",
   "metadata": {},
   "source": [
    "At the end of this project, it appears that the model I created works faster than my mom doing everything by hand, which is what I was hoping for. The optimization also didn't appear to speed up the code that much, but it all stayed around a similar values of five seconds. The model itself seems accurate in being able to predict whether or not an ad should be placed in that show. However, if I were to continue working on this, I would want to add more criteria to the model to help determine if ad placement. Currently I determined the original classes by just using a single value to determine ad placement. This method would work if all of the networks were the same size and had similar percentages for the composite. In this datset, for some reason Cartoon Network was smaller than the other networks (which my mom said was weird), so the other networks were a little biased as their values were already larger. Next time, I would try to establish a way to find the top average value calculated from each network and then I would determine the value that's 25% lower than that and that would be the ad placement criteria for that network. Then it would account for a combination of larger and smaller networks. Also, I would like to test my model on data from the current year to see how it would perform."
   ]
  },
  {
   "cell_type": "markdown",
   "metadata": {},
   "source": [
    "# References\n",
    "\n",
    "The data that I used in my model was given to me by my mom and it's technically not supposed to be used outside of her work."
   ]
  }
 ],
 "metadata": {
  "kernelspec": {
   "display_name": "Python 3",
   "language": "python",
   "name": "python3"
  },
  "language_info": {
   "codemirror_mode": {
    "name": "ipython",
    "version": 3
   },
   "file_extension": ".py",
   "mimetype": "text/x-python",
   "name": "python",
   "nbconvert_exporter": "python",
   "pygments_lexer": "ipython3",
   "version": "3.8.3"
  }
 },
 "nbformat": 4,
 "nbformat_minor": 4
}
